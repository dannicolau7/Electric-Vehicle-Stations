{
 "cells": [
  {
   "cell_type": "markdown",
   "id": "d3b3c7cb",
   "metadata": {},
   "source": [
    "# Analyze Electric Vehicle Stations\n"
   ]
  },
  {
   "cell_type": "code",
   "execution_count": 24,
   "id": "f64d0f03",
   "metadata": {},
   "outputs": [
    {
     "data": {
      "text/html": [
       "<div>\n",
       "<style scoped>\n",
       "    .dataframe tbody tr th:only-of-type {\n",
       "        vertical-align: middle;\n",
       "    }\n",
       "\n",
       "    .dataframe tbody tr th {\n",
       "        vertical-align: top;\n",
       "    }\n",
       "\n",
       "    .dataframe thead th {\n",
       "        text-align: right;\n",
       "    }\n",
       "</style>\n",
       "<table border=\"1\" class=\"dataframe\">\n",
       "  <thead>\n",
       "    <tr style=\"text-align: right;\">\n",
       "      <th></th>\n",
       "      <th>id</th>\n",
       "      <th>fuel</th>\n",
       "      <th>state</th>\n",
       "      <th>owner</th>\n",
       "      <th>access</th>\n",
       "      <th>number_of_stations</th>\n",
       "    </tr>\n",
       "  </thead>\n",
       "  <tbody>\n",
       "    <tr>\n",
       "      <th>0</th>\n",
       "      <td>1</td>\n",
       "      <td>Biofuel</td>\n",
       "      <td>Ohio</td>\n",
       "      <td>Private</td>\n",
       "      <td>Public</td>\n",
       "      <td>23.0</td>\n",
       "    </tr>\n",
       "    <tr>\n",
       "      <th>1</th>\n",
       "      <td>2</td>\n",
       "      <td>Hydrogen</td>\n",
       "      <td>New York</td>\n",
       "      <td>Private</td>\n",
       "      <td>Private</td>\n",
       "      <td>76.0</td>\n",
       "    </tr>\n",
       "    <tr>\n",
       "      <th>2</th>\n",
       "      <td>3</td>\n",
       "      <td>Compressed Natural Gas</td>\n",
       "      <td>California</td>\n",
       "      <td>Government</td>\n",
       "      <td>Public</td>\n",
       "      <td>35.0</td>\n",
       "    </tr>\n",
       "    <tr>\n",
       "      <th>3</th>\n",
       "      <td>4</td>\n",
       "      <td>Propane</td>\n",
       "      <td>Texas</td>\n",
       "      <td>Private</td>\n",
       "      <td>Public</td>\n",
       "      <td>58.0</td>\n",
       "    </tr>\n",
       "    <tr>\n",
       "      <th>4</th>\n",
       "      <td>5</td>\n",
       "      <td>Biodiesel</td>\n",
       "      <td>Florida</td>\n",
       "      <td>Public</td>\n",
       "      <td>Private</td>\n",
       "      <td>48.0</td>\n",
       "    </tr>\n",
       "  </tbody>\n",
       "</table>\n",
       "</div>"
      ],
      "text/plain": [
       "   id                    fuel       state       owner   access  \\\n",
       "0   1                 Biofuel        Ohio     Private   Public   \n",
       "1   2                Hydrogen    New York     Private  Private   \n",
       "2   3  Compressed Natural Gas  California  Government   Public   \n",
       "3   4                 Propane       Texas     Private   Public   \n",
       "4   5               Biodiesel     Florida      Public  Private   \n",
       "\n",
       "   number_of_stations  \n",
       "0                23.0  \n",
       "1                76.0  \n",
       "2                35.0  \n",
       "3                58.0  \n",
       "4                48.0  "
      ]
     },
     "execution_count": 24,
     "metadata": {},
     "output_type": "execute_result"
    }
   ],
   "source": [
    "import pandas as pd\n",
    "stations = pd.read_csv('stations.csv')\n",
    "# show output\n",
    "stations.head()"
   ]
  },
  {
   "cell_type": "markdown",
   "id": "cb16dbf0",
   "metadata": {},
   "source": [
    "\n",
    "\n",
    "Each row of the dataset counts the number of stations corresponding to certain categories of fuel, ownership, location, and access.\n",
    "    \n",
    "For example, let's look at the first row. The first row counts the number of\n",
    "    \n",
    "    - biodiesel stations\n",
    "    - in Alabama\n",
    "    - owned by the government\n",
    "    - with restricted/private access\n",
    "\n"
   ]
  },
  {
   "cell_type": "markdown",
   "id": "ff1b1167",
   "metadata": {},
   "source": [
    "\n",
    "\n",
    "Call `.value_counts()` on `fuel` to see the different kinds of fuel included in the dataset."
   ]
  },
  {
   "cell_type": "code",
   "execution_count": 25,
   "id": "54123073",
   "metadata": {},
   "outputs": [
    {
     "data": {
      "text/plain": [
       "fuel\n",
       "Biofuel                   7\n",
       "Hydrogen                  7\n",
       "Compressed Natural Gas    6\n",
       "Propane                   6\n",
       "Biodiesel                 6\n",
       "Name: count, dtype: int64"
      ]
     },
     "execution_count": 25,
     "metadata": {},
     "output_type": "execute_result"
    }
   ],
   "source": [
    "stations['fuel'].value_counts()\n"
   ]
  },
  {
   "cell_type": "markdown",
   "id": "46770772",
   "metadata": {},
   "source": [
    "\n",
    "Call `.value_counts()` on `owner` to see the different kinds of owners included in the dataset."
   ]
  },
  {
   "cell_type": "code",
   "execution_count": 26,
   "id": "cd01dcac",
   "metadata": {},
   "outputs": [
    {
     "data": {
      "text/plain": [
       "owner\n",
       "Private       20\n",
       "Government     6\n",
       "Public         6\n",
       "Name: count, dtype: int64"
      ]
     },
     "execution_count": 26,
     "metadata": {},
     "output_type": "execute_result"
    }
   ],
   "source": [
    "stations['owner'].value_counts()"
   ]
  },
  {
   "cell_type": "markdown",
   "id": "31f1c8ec",
   "metadata": {},
   "source": [
    "\n",
    "Call `.value_counts()` on `access` to see the different kinds of access included in the dataset."
   ]
  },
  {
   "cell_type": "code",
   "execution_count": 27,
   "id": "0e8c0f73",
   "metadata": {},
   "outputs": [
    {
     "data": {
      "text/plain": [
       "access\n",
       "Public     19\n",
       "Private    13\n",
       "Name: count, dtype: int64"
      ]
     },
     "execution_count": 27,
     "metadata": {},
     "output_type": "execute_result"
    }
   ],
   "source": [
    "stations['access'].value_counts()"
   ]
  },
  {
   "cell_type": "markdown",
   "id": "5d7d74a9",
   "metadata": {},
   "source": [
    "<details>\n",
    "    <summary style=\"display:list-item; font-size:16px; color:blue;\"><i>What did we discover using value counts? Toggle to check!</i></summary>\n",
    "\n",
    "Using `.value_counts()` tells us the different types of stations in the dataset. For example, we now know that there are both public-access and private-access stations in the dataset.\n",
    "    \n",
    "It is important to remember that `.value_counts()` only tells us how many *rows* in the dataset contain a certain value. For example, from Task 4 we know that there are 415 rows in the dataset that contain `public` in the `access` column. This does *not* correspond to 415 stations, since each row can have a large `number_of_stations`.\n",
    "\n",
    "</details>"
   ]
  },
  {
   "cell_type": "markdown",
   "id": "655d3edc",
   "metadata": {},
   "source": [
    "\n",
    "Call `.describe()` on `number_of_stations`."
   ]
  },
  {
   "cell_type": "code",
   "execution_count": 28,
   "id": "c392c383",
   "metadata": {},
   "outputs": [
    {
     "data": {
      "text/plain": [
       "count    10.000000\n",
       "mean     44.300000\n",
       "std      18.037307\n",
       "min      23.000000\n",
       "25%      26.000000\n",
       "50%      46.500000\n",
       "75%      56.000000\n",
       "max      76.000000\n",
       "Name: number_of_stations, dtype: float64"
      ]
     },
     "execution_count": 28,
     "metadata": {},
     "output_type": "execute_result"
    }
   ],
   "source": [
    "stations['number_of_stations'].describe()"
   ]
  },
  {
   "cell_type": "markdown",
   "id": "501000ed",
   "metadata": {},
   "source": [
    "\n",
    "Sort `stations` by `number_of_stations` from largest to smallest. "
   ]
  },
  {
   "cell_type": "code",
   "execution_count": 29,
   "id": "fe8b0dff",
   "metadata": {},
   "outputs": [],
   "source": [
    "stations = stations.sort_values(by = 'number_of_stations', ascending = False)"
   ]
  },
  {
   "cell_type": "markdown",
   "id": "2ac88d89",
   "metadata": {},
   "source": [
    "\n",
    "Sort `stations` by `number_of_stations` from smallest to largest."
   ]
  },
  {
   "cell_type": "code",
   "execution_count": 30,
   "id": "fd93a428",
   "metadata": {},
   "outputs": [],
   "source": [
    "stations = stations.sort_values(by = 'number_of_stations', ascending = True)"
   ]
  },
  {
   "cell_type": "markdown",
   "id": "ad058e76",
   "metadata": {},
   "source": [
    "<details>\n",
    "    <summary style=\"display:list-item; font-size:16px; color:blue;\"><i>What did we discover using sorting? Toggle to check!</i></summary>\n",
    "\n",
    "The five largest rows are all public-access, privately-owned, and electric. \n",
    "\n",
    "We can't draw too many conclusions from the five smallest rows, because there may be more than just these five rows with 1 station.\n",
    "\n",
    "</details>"
   ]
  },
  {
   "cell_type": "markdown",
   "id": "c9363658",
   "metadata": {},
   "source": [
    "\n",
    "\n",
    "Create a Boolean mask that is `True` for any row of `stations` where `access` is public."
   ]
  },
  {
   "cell_type": "code",
   "execution_count": 31,
   "id": "580615a9",
   "metadata": {},
   "outputs": [
    {
     "data": {
      "text/plain": [
       "0    False\n",
       "7    False\n",
       "8    False\n",
       "2    False\n",
       "5    False\n",
       "Name: access, dtype: bool"
      ]
     },
     "execution_count": 31,
     "metadata": {},
     "output_type": "execute_result"
    }
   ],
   "source": [
    "is_public = stations['access'] == 'public'\n",
    "is_public.head()"
   ]
  },
  {
   "cell_type": "markdown",
   "id": "a1bcdaa7",
   "metadata": {},
   "source": [
    "\n",
    "Create a Boolean mask that is `True` for any row of `stations` where `fuel` is electric."
   ]
  },
  {
   "cell_type": "code",
   "execution_count": 32,
   "id": "b92be568",
   "metadata": {},
   "outputs": [
    {
     "data": {
      "text/plain": [
       "0    False\n",
       "7    False\n",
       "8    False\n",
       "2    False\n",
       "5    False\n",
       "Name: fuel, dtype: bool"
      ]
     },
     "execution_count": 32,
     "metadata": {},
     "output_type": "execute_result"
    }
   ],
   "source": [
    "is_electric = stations['fuel'] == 'electric'\n",
    "is_electric.head()"
   ]
  },
  {
   "cell_type": "markdown",
   "id": "8eba9134",
   "metadata": {},
   "source": [
    "\n",
    "\n",
    "Use the Boolean masks from Tasks 8 and 9 to filter `stations` down to only rows that are both public-access and electric-fuel. Assign the result to the variable `public_electric`."
   ]
  },
  {
   "cell_type": "code",
   "execution_count": 33,
   "id": "a33012da",
   "metadata": {},
   "outputs": [
    {
     "data": {
      "text/html": [
       "<div>\n",
       "<style scoped>\n",
       "    .dataframe tbody tr th:only-of-type {\n",
       "        vertical-align: middle;\n",
       "    }\n",
       "\n",
       "    .dataframe tbody tr th {\n",
       "        vertical-align: top;\n",
       "    }\n",
       "\n",
       "    .dataframe thead th {\n",
       "        text-align: right;\n",
       "    }\n",
       "</style>\n",
       "<table border=\"1\" class=\"dataframe\">\n",
       "  <thead>\n",
       "    <tr style=\"text-align: right;\">\n",
       "      <th></th>\n",
       "      <th>id</th>\n",
       "      <th>fuel</th>\n",
       "      <th>state</th>\n",
       "      <th>owner</th>\n",
       "      <th>access</th>\n",
       "      <th>number_of_stations</th>\n",
       "    </tr>\n",
       "  </thead>\n",
       "  <tbody>\n",
       "  </tbody>\n",
       "</table>\n",
       "</div>"
      ],
      "text/plain": [
       "Empty DataFrame\n",
       "Columns: [id, fuel, state, owner, access, number_of_stations]\n",
       "Index: []"
      ]
     },
     "execution_count": 33,
     "metadata": {},
     "output_type": "execute_result"
    }
   ],
   "source": [
    "public_electric = stations[is_public & is_electric]\n",
    "public_electric"
   ]
  },
  {
   "cell_type": "markdown",
   "id": "3dfd1fb6",
   "metadata": {},
   "source": [
    "\n",
    "Sort `public_electric` by `number_of_stations` from smallest to largest. Display the top 5 rows (corresponding to the smallest numbers of stations.)"
   ]
  },
  {
   "cell_type": "markdown",
   "id": "528d08ed",
   "metadata": {},
   "source": [
    "\n",
    "\n",
    "Sort `public_electric` by `number_of_stations` from smallest to largest. Display the top 5 rows (corresponding to the smallest numbers of stations.)"
   ]
  },
  {
   "cell_type": "code",
   "execution_count": 34,
   "id": "81a4c07c",
   "metadata": {},
   "outputs": [
    {
     "data": {
      "text/html": [
       "<div>\n",
       "<style scoped>\n",
       "    .dataframe tbody tr th:only-of-type {\n",
       "        vertical-align: middle;\n",
       "    }\n",
       "\n",
       "    .dataframe tbody tr th {\n",
       "        vertical-align: top;\n",
       "    }\n",
       "\n",
       "    .dataframe thead th {\n",
       "        text-align: right;\n",
       "    }\n",
       "</style>\n",
       "<table border=\"1\" class=\"dataframe\">\n",
       "  <thead>\n",
       "    <tr style=\"text-align: right;\">\n",
       "      <th></th>\n",
       "      <th>id</th>\n",
       "      <th>fuel</th>\n",
       "      <th>state</th>\n",
       "      <th>owner</th>\n",
       "      <th>access</th>\n",
       "      <th>number_of_stations</th>\n",
       "    </tr>\n",
       "  </thead>\n",
       "  <tbody>\n",
       "  </tbody>\n",
       "</table>\n",
       "</div>"
      ],
      "text/plain": [
       "Empty DataFrame\n",
       "Columns: [id, fuel, state, owner, access, number_of_stations]\n",
       "Index: []"
      ]
     },
     "execution_count": 34,
     "metadata": {},
     "output_type": "execute_result"
    }
   ],
   "source": [
    "public_electric = public_electric.sort_values(by='number_of_stations')\n",
    "public_electric.head()"
   ]
  },
  {
   "cell_type": "markdown",
   "id": "2fa14ff8",
   "metadata": {},
   "source": [
    "\n",
    "\n",
    "Compare privately- and publicly-owned stations. Create a Boolean mask that is `True` for each row of `public_electric` where `owner` is private."
   ]
  },
  {
   "cell_type": "code",
   "execution_count": 35,
   "id": "ba369890",
   "metadata": {},
   "outputs": [],
   "source": [
    "is_privately_owned = public_electric['owner'] == 'private'"
   ]
  },
  {
   "cell_type": "markdown",
   "id": "243d36b8",
   "metadata": {},
   "source": [
    "\n",
    "\n",
    "Use the Boolean mask from Task 12 to filter `public_electric` down to only privately-owned rows. Assign the result to the variable `privately_owned`."
   ]
  },
  {
   "cell_type": "code",
   "execution_count": 36,
   "id": "019be205",
   "metadata": {},
   "outputs": [
    {
     "data": {
      "text/html": [
       "<div>\n",
       "<style scoped>\n",
       "    .dataframe tbody tr th:only-of-type {\n",
       "        vertical-align: middle;\n",
       "    }\n",
       "\n",
       "    .dataframe tbody tr th {\n",
       "        vertical-align: top;\n",
       "    }\n",
       "\n",
       "    .dataframe thead th {\n",
       "        text-align: right;\n",
       "    }\n",
       "</style>\n",
       "<table border=\"1\" class=\"dataframe\">\n",
       "  <thead>\n",
       "    <tr style=\"text-align: right;\">\n",
       "      <th></th>\n",
       "      <th>id</th>\n",
       "      <th>fuel</th>\n",
       "      <th>state</th>\n",
       "      <th>owner</th>\n",
       "      <th>access</th>\n",
       "      <th>number_of_stations</th>\n",
       "    </tr>\n",
       "  </thead>\n",
       "  <tbody>\n",
       "  </tbody>\n",
       "</table>\n",
       "</div>"
      ],
      "text/plain": [
       "Empty DataFrame\n",
       "Columns: [id, fuel, state, owner, access, number_of_stations]\n",
       "Index: []"
      ]
     },
     "execution_count": 36,
     "metadata": {},
     "output_type": "execute_result"
    }
   ],
   "source": [
    "privately_owned = public_electric[is_privately_owned]\n",
    "privately_owned.head()"
   ]
  },
  {
   "cell_type": "markdown",
   "id": "3cefc577",
   "metadata": {},
   "source": [
    "\n",
    "\n",
    "Check how many states have privately-owned, publicly-accessible electric charging stations. Call `.describe()` on the `state` column of `privately_owned`."
   ]
  },
  {
   "cell_type": "code",
   "execution_count": 37,
   "id": "9419e685",
   "metadata": {},
   "outputs": [
    {
     "data": {
      "text/plain": [
       "count       0\n",
       "unique      0\n",
       "top       NaN\n",
       "freq      NaN\n",
       "Name: state, dtype: object"
      ]
     },
     "execution_count": 37,
     "metadata": {},
     "output_type": "execute_result"
    }
   ],
   "source": [
    "privately_owned['state'].describe()"
   ]
  },
  {
   "cell_type": "markdown",
   "id": "14168bea",
   "metadata": {},
   "source": [
    "\n",
    "\n",
    "Use the Boolean mask you created in Task 12 to filter `public_electric` down to only rows with *non*-private ownership. Assign the result to the variable `not_privately_owned`."
   ]
  },
  {
   "cell_type": "code",
   "execution_count": 38,
   "id": "554dd225",
   "metadata": {},
   "outputs": [
    {
     "data": {
      "text/html": [
       "<div>\n",
       "<style scoped>\n",
       "    .dataframe tbody tr th:only-of-type {\n",
       "        vertical-align: middle;\n",
       "    }\n",
       "\n",
       "    .dataframe tbody tr th {\n",
       "        vertical-align: top;\n",
       "    }\n",
       "\n",
       "    .dataframe thead th {\n",
       "        text-align: right;\n",
       "    }\n",
       "</style>\n",
       "<table border=\"1\" class=\"dataframe\">\n",
       "  <thead>\n",
       "    <tr style=\"text-align: right;\">\n",
       "      <th></th>\n",
       "      <th>id</th>\n",
       "      <th>fuel</th>\n",
       "      <th>state</th>\n",
       "      <th>owner</th>\n",
       "      <th>access</th>\n",
       "      <th>number_of_stations</th>\n",
       "    </tr>\n",
       "  </thead>\n",
       "  <tbody>\n",
       "  </tbody>\n",
       "</table>\n",
       "</div>"
      ],
      "text/plain": [
       "Empty DataFrame\n",
       "Columns: [id, fuel, state, owner, access, number_of_stations]\n",
       "Index: []"
      ]
     },
     "execution_count": 38,
     "metadata": {},
     "output_type": "execute_result"
    }
   ],
   "source": [
    "not_privately_owned = public_electric[~is_privately_owned]\n",
    "not_privately_owned.head()"
   ]
  },
  {
   "cell_type": "markdown",
   "id": "b81bbbf8",
   "metadata": {},
   "source": [
    "\n",
    "\n",
    "Check how many states have publicly-owned, publicly-accessible electric charging stations. Call `.describe()` on the `state` column of `not_privately_owned`."
   ]
  },
  {
   "cell_type": "code",
   "execution_count": 39,
   "id": "c7dfac4f",
   "metadata": {},
   "outputs": [
    {
     "data": {
      "text/plain": [
       "count       0\n",
       "unique      0\n",
       "top       NaN\n",
       "freq      NaN\n",
       "Name: state, dtype: object"
      ]
     },
     "execution_count": 39,
     "metadata": {},
     "output_type": "execute_result"
    }
   ],
   "source": [
    "not_privately_owned['state'].describe()"
   ]
  },
  {
   "cell_type": "markdown",
   "id": "243fe3e3",
   "metadata": {},
   "source": [
    "\n",
    "\n",
    "Investigate publicly-owned stations a bit further. Call `.describe()` on the `number_of_stations` column of `not_privately_owned`."
   ]
  },
  {
   "cell_type": "code",
   "execution_count": 40,
   "id": "f1cd0490",
   "metadata": {},
   "outputs": [
    {
     "data": {
      "text/plain": [
       "count    0.0\n",
       "mean     NaN\n",
       "std      NaN\n",
       "min      NaN\n",
       "25%      NaN\n",
       "50%      NaN\n",
       "75%      NaN\n",
       "max      NaN\n",
       "Name: number_of_stations, dtype: float64"
      ]
     },
     "execution_count": 40,
     "metadata": {},
     "output_type": "execute_result"
    }
   ],
   "source": [
    "not_privately_owned['number_of_stations'].describe()"
   ]
  },
  {
   "cell_type": "markdown",
   "id": "8c997732",
   "metadata": {},
   "source": [
    "\n",
    "Create a Boolean mask that is true in each row of `not_privately_owned` where the `number_of_stations` is bigger than 17 (the 75th percentile)."
   ]
  },
  {
   "cell_type": "code",
   "execution_count": 41,
   "id": "ecb8a65c",
   "metadata": {},
   "outputs": [],
   "source": [
    "gt_17 = not_privately_owned['number_of_stations'] > 17"
   ]
  },
  {
   "cell_type": "markdown",
   "id": "b2c80d4d",
   "metadata": {},
   "source": [
    "\n",
    "\n",
    "Filter `not_privately_owned` down to only rows with `number_of_stations` bigger than 17. Assign the result to the variable `above_17`."
   ]
  },
  {
   "cell_type": "code",
   "execution_count": 42,
   "id": "c9069b01",
   "metadata": {},
   "outputs": [
    {
     "data": {
      "text/html": [
       "<div>\n",
       "<style scoped>\n",
       "    .dataframe tbody tr th:only-of-type {\n",
       "        vertical-align: middle;\n",
       "    }\n",
       "\n",
       "    .dataframe tbody tr th {\n",
       "        vertical-align: top;\n",
       "    }\n",
       "\n",
       "    .dataframe thead th {\n",
       "        text-align: right;\n",
       "    }\n",
       "</style>\n",
       "<table border=\"1\" class=\"dataframe\">\n",
       "  <thead>\n",
       "    <tr style=\"text-align: right;\">\n",
       "      <th></th>\n",
       "      <th>id</th>\n",
       "      <th>fuel</th>\n",
       "      <th>state</th>\n",
       "      <th>owner</th>\n",
       "      <th>access</th>\n",
       "      <th>number_of_stations</th>\n",
       "    </tr>\n",
       "  </thead>\n",
       "  <tbody>\n",
       "  </tbody>\n",
       "</table>\n",
       "</div>"
      ],
      "text/plain": [
       "Empty DataFrame\n",
       "Columns: [id, fuel, state, owner, access, number_of_stations]\n",
       "Index: []"
      ]
     },
     "execution_count": 42,
     "metadata": {},
     "output_type": "execute_result"
    }
   ],
   "source": [
    "above_17 = not_privately_owned[gt_17]\n",
    "above_17.head()"
   ]
  },
  {
   "cell_type": "markdown",
   "id": "aa735511",
   "metadata": {},
   "source": [
    "\n",
    "Sort `above_17` by `number_of_stations` and output the entirety of the result."
   ]
  },
  {
   "cell_type": "code",
   "execution_count": 43,
   "id": "ac57d229",
   "metadata": {},
   "outputs": [
    {
     "data": {
      "text/html": [
       "<div>\n",
       "<style scoped>\n",
       "    .dataframe tbody tr th:only-of-type {\n",
       "        vertical-align: middle;\n",
       "    }\n",
       "\n",
       "    .dataframe tbody tr th {\n",
       "        vertical-align: top;\n",
       "    }\n",
       "\n",
       "    .dataframe thead th {\n",
       "        text-align: right;\n",
       "    }\n",
       "</style>\n",
       "<table border=\"1\" class=\"dataframe\">\n",
       "  <thead>\n",
       "    <tr style=\"text-align: right;\">\n",
       "      <th></th>\n",
       "      <th>id</th>\n",
       "      <th>fuel</th>\n",
       "      <th>state</th>\n",
       "      <th>owner</th>\n",
       "      <th>access</th>\n",
       "      <th>number_of_stations</th>\n",
       "    </tr>\n",
       "  </thead>\n",
       "  <tbody>\n",
       "  </tbody>\n",
       "</table>\n",
       "</div>"
      ],
      "text/plain": [
       "Empty DataFrame\n",
       "Columns: [id, fuel, state, owner, access, number_of_stations]\n",
       "Index: []"
      ]
     },
     "execution_count": 43,
     "metadata": {},
     "output_type": "execute_result"
    }
   ],
   "source": [
    "above_17.sort_values(by=['number_of_stations'],ascending=False)"
   ]
  },
  {
   "cell_type": "code",
   "execution_count": 44,
   "id": "db343a41",
   "metadata": {},
   "outputs": [],
   "source": [
    "is_wa = public_electric['state'] == 'WA'\n",
    "is_or = public_electric['state'] == 'OR'"
   ]
  },
  {
   "cell_type": "markdown",
   "id": "8fde48e9",
   "metadata": {},
   "source": [
    "\n",
    "Filter `public_electric` down to only those rows where `state` is either `WA` or `OR`. Assign the result to the variable `WA_or_OR`."
   ]
  },
  {
   "cell_type": "code",
   "execution_count": 45,
   "id": "50a96756",
   "metadata": {},
   "outputs": [],
   "source": [
    "WA_or_OR = public_electric[ is_wa | is_or]"
   ]
  },
  {
   "cell_type": "markdown",
   "id": "863525b0",
   "metadata": {},
   "source": [
    "\n",
    "\n",
    "Sort `WA_or_OR` first by `owner` and then, within each `owner`, by `number_of_stations`. "
   ]
  },
  {
   "cell_type": "code",
   "execution_count": 46,
   "id": "13cf4ff6",
   "metadata": {},
   "outputs": [
    {
     "data": {
      "text/html": [
       "<div>\n",
       "<style scoped>\n",
       "    .dataframe tbody tr th:only-of-type {\n",
       "        vertical-align: middle;\n",
       "    }\n",
       "\n",
       "    .dataframe tbody tr th {\n",
       "        vertical-align: top;\n",
       "    }\n",
       "\n",
       "    .dataframe thead th {\n",
       "        text-align: right;\n",
       "    }\n",
       "</style>\n",
       "<table border=\"1\" class=\"dataframe\">\n",
       "  <thead>\n",
       "    <tr style=\"text-align: right;\">\n",
       "      <th></th>\n",
       "      <th>id</th>\n",
       "      <th>fuel</th>\n",
       "      <th>state</th>\n",
       "      <th>owner</th>\n",
       "      <th>access</th>\n",
       "      <th>number_of_stations</th>\n",
       "    </tr>\n",
       "  </thead>\n",
       "  <tbody>\n",
       "  </tbody>\n",
       "</table>\n",
       "</div>"
      ],
      "text/plain": [
       "Empty DataFrame\n",
       "Columns: [id, fuel, state, owner, access, number_of_stations]\n",
       "Index: []"
      ]
     },
     "execution_count": 46,
     "metadata": {},
     "output_type": "execute_result"
    }
   ],
   "source": [
    "WA_or_OR.sort_values(by=['owner','number_of_stations'],ascending=False)"
   ]
  },
  {
   "cell_type": "code",
   "execution_count": null,
   "id": "a5697f43",
   "metadata": {},
   "outputs": [],
   "source": []
  },
  {
   "cell_type": "code",
   "execution_count": null,
   "id": "a71cae22",
   "metadata": {},
   "outputs": [],
   "source": []
  }
 ],
 "metadata": {
  "kernelspec": {
   "display_name": "base",
   "language": "python",
   "name": "python3"
  },
  "language_info": {
   "codemirror_mode": {
    "name": "ipython",
    "version": 3
   },
   "file_extension": ".py",
   "mimetype": "text/x-python",
   "name": "python",
   "nbconvert_exporter": "python",
   "pygments_lexer": "ipython3",
   "version": "3.12.7"
  }
 },
 "nbformat": 4,
 "nbformat_minor": 5
}
